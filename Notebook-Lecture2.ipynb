{
    "metadata": {
        "kernelspec": {
            "name": "SQL",
            "display_name": "SQL",
            "language": "sql"
        },
        "language_info": {
            "name": "sql",
            "version": ""
        }
    },
    "nbformat_minor": 2,
    "nbformat": 4,
    "cells": [
        {
            "cell_type": "markdown",
            "source": [
                ""
            ],
            "metadata": {
                "azdata_cell_guid": "095baf8f-18cc-43ed-bdad-e3d363c81b0a"
            }
        },
        {
            "cell_type": "markdown",
            "source": [
                "<span style=\"color: #008000;\">-- PK Unique va k co gia tri nULL</span>\n",
                "\n",
                "<span style=\"color: #008000;\">-- FK ONN CASCASDE DELETE IGNORE</span>\n",
                "\n",
                "<span style=\"color: #008000;\">/*</span>\n",
                "\n",
                "<span style=\"color: #008000;\">Slide:&nbsp;<a href=\"https://onedrive.live.com/?cid=c6cb1fed4e11a01b&amp;id=C6CB1FED4E11A01B%2118900&amp;authkey=%21AFNZiKAOi2nf4wo\" data-href=\"https://onedrive.live.com/?cid=c6cb1fed4e11a01b&amp;id=C6CB1FED4E11A01B%2118900&amp;authkey=%21AFNZiKAOi2nf4wo\" title=\"https://onedrive.live.com/?cid=c6cb1fed4e11a01b&amp;id=C6CB1FED4E11A01B%2118900&amp;authkey=%21AFNZiKAOi2nf4wo\">https://onedrive.live.com/?cid=c6cb1fed4e11a01b&amp;id=C6CB1FED4E11A01B%2118900&amp;authkey=%21AFNZiKAOi2nf4wo</a></span>\n",
                "\n",
                "<span style=\"color: #008000;\">*/</span>\n",
                "\n",
                "<span style=\"color: #008000;\">-- SLECT will use to choose the dataset</span>\n",
                "\n",
                "<span style=\"color: #008000;\">-- FROM will use to export the database to our action</span>\n",
                "\n",
                "<span style=\"color: #008000;\">-- WHERE</span>\n",
                "\n",
                "<span style=\"color: #008000;\">-- GROUP BY</span>"
            ],
            "metadata": {
                "azdata_cell_guid": "9807cad5-0b87-415c-9c70-5e6ae8aa2926"
            },
            "attachments": {}
        },
        {
            "cell_type": "code",
            "source": [
                "-- SELECT NAMETABLES FROM NAMECOLUMNS"
            ],
            "metadata": {
                "azdata_cell_guid": "0529e7dd-0ab2-4817-8d36-bfdbbac0ec7d"
            },
            "outputs": [],
            "execution_count": null
        },
        {
            "cell_type": "code",
            "source": [
                "select * from production.brands;"
            ],
            "metadata": {
                "azdata_cell_guid": "c1073709-1b47-4f2f-993f-980f4abba839"
            },
            "outputs": [
                {
                    "output_type": "error",
                    "evalue": "Msg 208, Level 16, State 1, Line 1\nInvalid object name 'production.brands'.",
                    "ename": "",
                    "traceback": []
                },
                {
                    "output_type": "display_data",
                    "data": {
                        "text/html": "Total execution time: 00:00:00.008"
                    },
                    "metadata": {}
                }
            ],
            "execution_count": 4
        },
        {
            "cell_type": "code",
            "source": [
                ""
            ],
            "metadata": {
                "azdata_cell_guid": "1c94f2f2-fb06-42a6-bc35-402bd5f7229a"
            },
            "outputs": [],
            "execution_count": null
        },
        {
            "cell_type": "code",
            "source": [
                ""
            ],
            "metadata": {
                "azdata_cell_guid": "f57f8104-1ee4-4e35-9981-3761227d2da5"
            },
            "outputs": [],
            "execution_count": null
        },
        {
            "cell_type": "code",
            "source": [
                ""
            ],
            "metadata": {
                "azdata_cell_guid": "4db8866f-2a3c-420c-be2f-e2c1ae68ed9a"
            },
            "outputs": [],
            "execution_count": null
        }
    ]
}